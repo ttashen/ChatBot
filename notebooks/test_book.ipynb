{
 "cells": [
  {
   "cell_type": "code",
   "execution_count": 1,
   "id": "447c5c16-b251-4bb6-877c-57e948b3ee48",
   "metadata": {
    "tags": []
   },
   "outputs": [
    {
     "name": "stdout",
     "output_type": "stream",
     "text": [
      "Note: you may need to restart the kernel to use updated packages.\n",
      "Note: you may need to restart the kernel to use updated packages.\n"
     ]
    }
   ],
   "source": [
    "# %pip install --upgrade --quiet  langchain langchain-community langchainhub langchain-openai langchain-chroma bs4\n",
    "# %pip install --quiet unstructured\n",
    "# %pip install --quiet pypdf"
   ]
  },
  {
   "cell_type": "code",
   "execution_count": 1,
   "id": "c14ab50a-d291-4f54-b91e-927316da6791",
   "metadata": {},
   "outputs": [],
   "source": [
    "from langchain.docstore.document import Document\n",
    "from langchain_community.document_loaders import PyPDFLoader\n",
    "from langchain_openai import OpenAIEmbeddings\n",
    "from langchain.text_splitter import MarkdownTextSplitter\n",
    "from langchain.vectorstores import Chroma\n",
    "from typing import List, Tuple\n",
    "import pathlib\n",
    "import os\n",
    "from getpass import getpass\n",
    "import openai"
   ]
  },
  {
   "cell_type": "code",
   "execution_count": 2,
   "id": "20006f41-8a71-431a-9742-74ebb6a53f50",
   "metadata": {},
   "outputs": [],
   "source": [
    "path = (\"../sample_document/23q3_sonyspeech.pdf\")\n",
    "\n",
    "loader = PyPDFLoader(path)\n",
    "markdown_text_splitter = MarkdownTextSplitter(\n",
    "    chunk_size=500, chunk_overlap=0\n",
    ")\n",
    "pages = loader.load_and_split(markdown_text_splitter)"
   ]
  },
  {
   "cell_type": "code",
   "execution_count": 5,
   "id": "98c2e2c0-e169-4e76-8b0f-7e3f095590c4",
   "metadata": {
    "scrolled": true
   },
   "outputs": [],
   "source": [
    "pages = pages"
   ]
  },
  {
   "cell_type": "code",
   "execution_count": 4,
   "id": "b8a71cae-5fe5-4c34-989c-737c7f5155a5",
   "metadata": {},
   "outputs": [
    {
     "name": "stdin",
     "output_type": "stream",
     "text": [
      "Paste your OpenAI key from: https://platform.openai.com/account/api-keys\n",
      " ········\n"
     ]
    },
    {
     "name": "stdout",
     "output_type": "stream",
     "text": [
      "OpenAI API key configured\n"
     ]
    }
   ],
   "source": [
    "if os.getenv(\"OPENAI_API_KEY\") is None:\n",
    "    if any(['VSCODE' in x for x in os.environ.keys()]):\n",
    "        print('Please enter password in the VS Code prompt at the top of your VS Code window!')\n",
    "    os.environ[\"OPENAI_API_KEY\"] = getpass(\"Paste your OpenAI key from: https://platform.openai.com/account/api-keys\\n\")\n",
    "    openai.api_key = os.getenv(\"OPENAI_API_KEY\", \"\")\n",
    "\n",
    "    assert os.getenv(\"OPENAI_API_KEY\", \"\").startswith(\"sk-\"), \"This doesn't look like a valid OpenAI API key\"\n",
    "    print(\"OpenAI API key configured\")\n",
    "\n",
    "api_key = os.environ.get(\"OPENAI_API_KEY\", None)"
   ]
  },
  {
   "cell_type": "code",
   "execution_count": 6,
   "id": "03df5bce-5f3a-4d80-8023-6c618a892cd2",
   "metadata": {},
   "outputs": [],
   "source": [
    "embedding_function = OpenAIEmbeddings(model = \"text-embedding-3-small\",openai_api_key=api_key)"
   ]
  },
  {
   "cell_type": "code",
   "execution_count": 8,
   "id": "24d66175-4c02-4e60-87f8-1033e25be37a",
   "metadata": {},
   "outputs": [],
   "source": [
    "vector_store = Chroma.from_documents(\n",
    "    documents=pages,\n",
    "    embedding=embedding_function,\n",
    "    persist_directory=\"../vector_store\",\n",
    ")\n",
    "vector_store.persist()"
   ]
  },
  {
   "cell_type": "code",
   "execution_count": 34,
   "id": "ed06d190-0e9a-4192-9bc5-e9348c275bd3",
   "metadata": {},
   "outputs": [
    {
     "data": {
      "text/plain": [
       "105"
      ]
     },
     "execution_count": 34,
     "metadata": {},
     "output_type": "execute_result"
    }
   ],
   "source": [
    "len(split_doc[0])"
   ]
  },
  {
   "cell_type": "code",
   "execution_count": null,
   "id": "16330e5c-aabf-4a97-85ed-c52bee2d80f4",
   "metadata": {},
   "outputs": [],
   "source": []
  }
 ],
 "metadata": {
  "kernelspec": {
   "display_name": "Python 3 (ipykernel)",
   "language": "python",
   "name": "python3"
  },
  "language_info": {
   "codemirror_mode": {
    "name": "ipython",
    "version": 3
   },
   "file_extension": ".py",
   "mimetype": "text/x-python",
   "name": "python",
   "nbconvert_exporter": "python",
   "pygments_lexer": "ipython3",
   "version": "3.10.13"
  }
 },
 "nbformat": 4,
 "nbformat_minor": 5
}
